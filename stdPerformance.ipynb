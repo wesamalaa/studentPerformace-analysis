{
 "cells": [
  {
   "cell_type": "code",
   "execution_count": null,
   "metadata": {
    "collapsed": true
   },
   "outputs": [],
   "source": [
    "import matplotlib as plt\n",
    "import pandas as pd\n",
    "import numpy as np\n",
    "import seaborn as sns\n",
    "import plotly.graph_objects as go\n",
    "from sklearn.model_selection import train_test_split\n",
    "from sklearn.linear_model import LinearRegression\n",
    "from sklearn.preprocessing import PolynomialFeatures"
   ]
  },
  {
   "cell_type": "code",
   "execution_count": null,
   "metadata": {},
   "outputs": [],
   "source": [
    "stud_df = pd.read_csv(\"./data/StudentsPerformance.csv\")"
   ]
  },
  {
   "cell_type": "code",
   "execution_count": null,
   "metadata": {},
   "outputs": [],
   "source": [
    "stud_df"
   ]
  },
  {
   "cell_type": "code",
   "execution_count": null,
   "metadata": {},
   "outputs": [],
   "source": [
    "stud_df.info()"
   ]
  },
  {
   "cell_type": "code",
   "execution_count": null,
   "metadata": {},
   "outputs": [],
   "source": [
    "stud_df = stud_df.rename(\n",
    "    columns={\n",
    "        \"gender\": \"gender\",\n",
    "        \"race/ethnicity\": \"social_group\",\n",
    "        \"parental level of education\": \"parent_education\",\n",
    "        \"lunch\": \"lunch\",\n",
    "        \"test preparation course\": \"test_prep_course\",\n",
    "        \"math score\": \"math_score\",\n",
    "        \"reading score\": \"read_score\",\n",
    "        \"writing score\": \"write_score\",\n",
    "    }\n",
    ")"
   ]
  },
  {
   "cell_type": "code",
   "execution_count": null,
   "metadata": {},
   "outputs": [],
   "source": [
    "stud_df.columns"
   ]
  },
  {
   "cell_type": "code",
   "execution_count": null,
   "metadata": {},
   "outputs": [],
   "source": [
    "stud_df.info()"
   ]
  },
  {
   "cell_type": "markdown",
   "metadata": {},
   "source": [
    "# Adding Grade Column"
   ]
  },
  {
   "cell_type": "code",
   "execution_count": null,
   "metadata": {},
   "outputs": [],
   "source": [
    "def AverageToGrade(AverageScore):\n",
    "    if AverageScore >= 80:\n",
    "        return \"A\"\n",
    "    if AverageScore >= 70:\n",
    "        return \"B\"\n",
    "    if AverageScore >= 60:\n",
    "        return \"C\"\n",
    "    if AverageScore >= 50:\n",
    "        return \"D\"\n",
    "    if AverageScore >= 40:\n",
    "        return \"E\"\n",
    "    else:\n",
    "        return \"F\""
   ]
  },
  {
   "cell_type": "markdown",
   "metadata": {},
   "source": [
    "## Setting average"
   ]
  },
  {
   "cell_type": "code",
   "execution_count": null,
   "metadata": {},
   "outputs": [],
   "source": [
    "stud_df[\"average\"] = stud_df[[\"math_score\", \"read_score\", \"write_score\"]].mean(axis=1)\n",
    "stud_df.head()"
   ]
  },
  {
   "cell_type": "code",
   "execution_count": null,
   "metadata": {},
   "outputs": [],
   "source": [
    "stud_df[\"grade\"] = stud_df.apply(lambda x: AverageToGrade(x[\"average\"]), axis=1)\n",
    "stud_df.head(20)"
   ]
  },
  {
   "cell_type": "code",
   "execution_count": null,
   "metadata": {},
   "outputs": [],
   "source": [
    "sns.countplot(data=stud_df, x=stud_df[\"grade\"], hue=stud_df[\"gender\"])"
   ]
  },
  {
   "cell_type": "code",
   "execution_count": null,
   "metadata": {},
   "outputs": [],
   "source": [
    "gender_mean = (\n",
    "    stud_df.groupby(\"gender\")[[\"math_score\", \"read_score\", \"write_score\", \"average\"]]\n",
    "    .mean()\n",
    "    .round(2)\n",
    ")\n",
    "gender_mean"
   ]
  },
  {
   "cell_type": "code",
   "execution_count": null,
   "metadata": {},
   "outputs": [],
   "source": [
    "fig = go.Figure(\n",
    "    data=[\n",
    "        go.Table(\n",
    "            header=dict(\n",
    "                values=[\"\", \"Male\", \"Female\"],\n",
    "                line_color=\"darkslategray\",\n",
    "                fill_color=\"lightskyblue\",\n",
    "                align=\"center\",\n",
    "                height=40,\n",
    "                font_size=20,\n",
    "            ),\n",
    "            cells=dict(\n",
    "                values=[\n",
    "                    gender_mean.T.index,\n",
    "                    gender_mean.T[\"male\"],\n",
    "                    gender_mean.T[\"female\"],\n",
    "                ],\n",
    "                line_color=\"darkslategray\",\n",
    "                fill_color=\"lightcyan\",\n",
    "                align=\"center\",\n",
    "                height=40,\n",
    "                font_size=20,\n",
    "            ),\n",
    "        )\n",
    "    ]\n",
    ")\n",
    "\n",
    "fig.update_layout(width=800, height=400)\n",
    "fig.show()"
   ]
  },
  {
   "cell_type": "code",
   "execution_count": null,
   "metadata": {},
   "outputs": [],
   "source": [
    "sns.displot(stud_df, x=\"math_score\", hue=\"gender\", kind=\"kde\", fill=\"true\")\n",
    "print(\"Average: %d\" % stud_df[\"math_score\"].median())"
   ]
  },
  {
   "cell_type": "code",
   "execution_count": null,
   "metadata": {},
   "outputs": [],
   "source": [
    "gender_mean.reset_index(inplace=True)\n",
    "fig = plt.pyplot.figure()\n",
    "gs = fig.add_gridspec(4, hspace=0)\n",
    "\n",
    "figure, axes = plt.pyplot.subplots(1, 4, sharex=True, sharey=True, figsize=(18, 6))\n",
    "figure.suptitle(\"Mean Score Visualize by Gender\")\n",
    "sns.barplot(x=\"gender\", y=\"math_score\", data=gender_mean, palette=\"pastel\", ax=axes[0])\n",
    "axes[0].set_title(\"Math Score\")\n",
    "sns.barplot(x=\"gender\", y=\"read_score\", data=gender_mean, palette=\"pastel\", ax=axes[1])\n",
    "axes[1].set_title(\"Reading Score\")\n",
    "sns.barplot(x=\"gender\", y=\"write_score\", data=gender_mean, palette=\"pastel\", ax=axes[2])\n",
    "axes[2].set_title(\"Writing Score\")\n",
    "sns.barplot(x=\"gender\", y=\"average\", data=gender_mean, palette=\"pastel\", ax=axes[3])\n",
    "axes[3].set_title(\"Average Score\")"
   ]
  },
  {
   "cell_type": "markdown",
   "metadata": {},
   "source": [
    "# Explore Categorical Variables\n"
   ]
  },
  {
   "cell_type": "code",
   "execution_count": null,
   "metadata": {},
   "outputs": [],
   "source": [
    "unique_df = pd.DataFrame(columns=[\"VariableName\", \"UniqueValues\"])\n",
    "object_columns = list(\n",
    "    filter(\n",
    "        lambda col: str(stud_df[col[1]].dtype) == \"object\", enumerate(stud_df.columns)\n",
    "    )\n",
    ")\n",
    "object_columns"
   ]
  },
  {
   "cell_type": "code",
   "execution_count": null,
   "metadata": {},
   "outputs": [],
   "source": [
    "for col in object_columns:\n",
    "    unique_df.loc[col[0], [\"VariableName\", \"UniqueValues\"]] = [\n",
    "        col[1],\n",
    "        \", \".join(stud_df[col[1]].unique()),\n",
    "    ]"
   ]
  },
  {
   "cell_type": "code",
   "execution_count": null,
   "metadata": {},
   "outputs": [],
   "source": [
    "pd.options.display.max_colwidth = 100\n",
    "\n",
    "unique_df"
   ]
  },
  {
   "cell_type": "code",
   "execution_count": null,
   "metadata": {},
   "outputs": [],
   "source": [
    "stud_df.describe()"
   ]
  },
  {
   "cell_type": "code",
   "execution_count": null,
   "metadata": {},
   "outputs": [],
   "source": [
    "stud_df.describe(include=\"all\")"
   ]
  },
  {
   "cell_type": "markdown",
   "metadata": {},
   "source": [
    "# Lebeling Categorical Variables\n",
    "## social_group\n",
    "\n",
    "0 ---> group A\n",
    "\n",
    "1 ---> group B\n",
    "\n",
    "2 ---> group C\n",
    "\n",
    "3 ---> group D\n",
    "\n",
    "4 ---> group E\n",
    "\n",
    "## parent_education\n",
    "\n",
    "0 ---> associate's degree\n",
    "\n",
    "1 ---> bachelor's degree\n",
    "\n",
    "2 ---> high school\n",
    "\n",
    "3 ---> master's degree\n",
    "\n",
    "4 ---> some college\n",
    "\n",
    "5 ---> some high school\n",
    "\n",
    "## Gender\n",
    "\n",
    "0 ---> female\n",
    "\n",
    "1 ---> male\n",
    "\n",
    "## Grade\n",
    "A ---> 0\n",
    "B ---> 1\n",
    "C ---> 2\n",
    "D ---> 3\n",
    "E ---> 4"
   ]
  },
  {
   "cell_type": "code",
   "execution_count": null,
   "metadata": {},
   "outputs": [],
   "source": [
    "from sklearn.preprocessing import LabelEncoder\n",
    "\n",
    "for col in object_columns:\n",
    "    lbl = LabelEncoder()\n",
    "    lbl.fit(list(stud_df[col[1]].values))\n",
    "    stud_df[col[1]] = lbl.transform(stud_df[col[1]].values)\n",
    "stud_df.head(10).style.background_gradient(cmap=\"Set2\")\n",
    "stud_df.describe()"
   ]
  },
  {
   "cell_type": "code",
   "execution_count": null,
   "metadata": {},
   "outputs": [],
   "source": [
    "stud_df.head(11).style.background_gradient(cmap=\"Set2\")"
   ]
  },
  {
   "cell_type": "code",
   "execution_count": null,
   "metadata": {},
   "outputs": [],
   "source": [
    "stud_df.to_csv(\"./data/new_dataset.csv\")"
   ]
  },
  {
   "cell_type": "code",
   "execution_count": null,
   "metadata": {},
   "outputs": [],
   "source": [
    "new_df = pd.read_csv(\"./data/new_dataset.csv\")\n",
    "print(new_df.shape)\n",
    "new_df.head()"
   ]
  },
  {
   "cell_type": "code",
   "execution_count": null,
   "metadata": {},
   "outputs": [],
   "source": [
    "grade_labels = {0: \"A\", 1: \"B\", 2: \"C\", 3: \"D\", 4: \"E\", 5: \"F\"}"
   ]
  },
  {
   "cell_type": "code",
   "execution_count": null,
   "metadata": {},
   "outputs": [],
   "source": [
    "X = new_df.iloc[:, 5:-2]\n",
    "X.values[:10]"
   ]
  },
  {
   "cell_type": "code",
   "execution_count": null,
   "metadata": {},
   "outputs": [],
   "source": [
    "y = new_df.iloc[:, -1]\n",
    "y"
   ]
  },
  {
   "cell_type": "code",
   "execution_count": null,
   "metadata": {},
   "outputs": [],
   "source": [
    "X_train, X_test, y_train, y_test = train_test_split(X, y, test_size=0.2, random_state=0)\n",
    "regressor = LinearRegression()\n",
    "regressor.fit(X_train, y_train)\n",
    "print(regressor.intercept_)\n",
    "print(regressor.coef_)\n",
    "y_pred = regressor.predict(X_test)\n",
    "df = pd.DataFrame({\"Actual\": y_test, \"Predicted\": y_pred})\n",
    "df\n",
    "poly_reg = PolynomialFeatures(degree=4)\n",
    "x_poly = poly_reg.fit_transform(X_train)\n",
    "pol_reg = LinearRegression()\n",
    "pol_reg.fit(x_poly, y_train)"
   ]
  },
  {
   "cell_type": "code",
   "execution_count": null,
   "metadata": {},
   "outputs": [],
   "source": [
    "y_pred = list(map(lambda x: int(x.round()), y_pred))"
   ]
  },
  {
   "cell_type": "code",
   "execution_count": null,
   "metadata": {},
   "outputs": [],
   "source": [
    "df = pd.DataFrame({\"Actual\": y_test, \"Predicted\": y_pred})\n",
    "df"
   ]
  },
  {
   "cell_type": "code",
   "execution_count": null,
   "metadata": {},
   "outputs": [],
   "source": [
    "y_pred = pol_reg.predict(poly_reg.fit_transform(X_test))\n",
    "y_pred = list(map(lambda x: int(x.round()), y_pred))\n",
    "df = pd.DataFrame({\"Actual\": y_test, \"Predicted\": y_pred})\n",
    "df"
   ]
  },
  {
   "cell_type": "code",
   "execution_count": null,
   "metadata": {},
   "outputs": [],
   "source": [
    "plt.pyplot.plot(X, y, color=\"red\")\n",
    "plt.pyplot.plot(X_test, y_pred, color=\"blue\")\n",
    "plt.pyplot.show()"
   ]
  },
  {
   "cell_type": "code",
   "execution_count": null,
   "metadata": {},
   "outputs": [],
   "source": [
    "from sklearn import metrics\n",
    "\n",
    "print(\"Mean Absolute Error:\", metrics.mean_absolute_error(y_test, y_pred))\n",
    "print(\"Mean Squared Error:\", metrics.mean_squared_error(y_test, y_pred))\n",
    "print(\"Root Mean Squared Error:\", np.sqrt(metrics.mean_squared_error(y_test, y_pred)))"
   ]
  }
 ],
 "metadata": {
  "interpreter": {
   "hash": "bfe2aec174fb9e7ab720346f833c6bfa7139dd64ccf06b4b64aed8b45034ce7c"
  },
  "kernelspec": {
   "display_name": "Python 3.9.4 64-bit ('3.9.4': pyenv)",
   "name": "python3"
  },
  "language_info": {
   "codemirror_mode": {
    "name": "ipython",
    "version": 3
   },
   "file_extension": ".py",
   "mimetype": "text/x-python",
   "name": "python",
   "nbconvert_exporter": "python",
   "pygments_lexer": "ipython3",
   "version": "3.9.4"
  }
 },
 "nbformat": 4,
 "nbformat_minor": 2
}
